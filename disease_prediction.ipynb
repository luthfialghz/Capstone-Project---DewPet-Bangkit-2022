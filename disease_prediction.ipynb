{
  "nbformat": 4,
  "nbformat_minor": 0,
  "metadata": {
    "colab": {
      "name": "disease_prediction",
      "provenance": [],
      "collapsed_sections": [],
      "authorship_tag": "ABX9TyOxi1L0j5mvMVCCi/co/mth",
      "include_colab_link": true
    },
    "kernelspec": {
      "name": "python3",
      "display_name": "Python 3"
    },
    "language_info": {
      "name": "python"
    }
  },
  "cells": [
    {
      "cell_type": "markdown",
      "metadata": {
        "id": "view-in-github",
        "colab_type": "text"
      },
      "source": [
        "<a href=\"https://colab.research.google.com/github/luthfialghz/Capstone-Project---DewPet-Bangkit-2022/blob/machine_learning/disease_prediction.ipynb\" target=\"_parent\"><img src=\"https://colab.research.google.com/assets/colab-badge.svg\" alt=\"Open In Colab\"/></a>"
      ]
    },
    {
      "cell_type": "code",
      "execution_count": 1,
      "metadata": {
        "id": "ADegyhMfwv9l"
      },
      "outputs": [],
      "source": [
        "import tensorflow as tf\n",
        "import pandas as pd\n",
        "import numpy as np\n",
        "from sklearn.preprocessing import LabelEncoder"
      ]
    },
    {
      "cell_type": "code",
      "source": [
        "dataframe = pd.read_csv('project_dataset.csv')\n",
        "dataframe.head()"
      ],
      "metadata": {
        "colab": {
          "base_uri": "https://localhost:8080/",
          "height": 438
        },
        "id": "L3ZjlvrdxKCc",
        "outputId": "204cef32-9bd6-4c9b-b504-acc208456ca0"
      },
      "execution_count": 2,
      "outputs": [
        {
          "output_type": "execute_result",
          "data": {
            "text/plain": [
              "   Abdominal Pain  Abnormal Elevation of Inner Eyelid  \\\n",
              "0               0                                   0   \n",
              "1               0                                   0   \n",
              "2               0                                   0   \n",
              "3               0                                   0   \n",
              "4               0                                   0   \n",
              "\n",
              "   Abnormal Coloration of One or More Teeth  Abnormal Posture  \\\n",
              "0                                         0                 0   \n",
              "1                                         0                 0   \n",
              "2                                         0                 0   \n",
              "3                                         0                 0   \n",
              "4                                         0                 0   \n",
              "\n",
              "   Abnormal Nail Color  Bad Odor  Bad Breath  Bleeding  Bleeding Gums  \\\n",
              "0                    0         0           0         0              0   \n",
              "1                    0         0           0         0              0   \n",
              "2                    0         0           0         0              0   \n",
              "3                    0         1           0         0              0   \n",
              "4                    0         1           0         0              0   \n",
              "\n",
              "   Blood in Urine/Feses  ...  Squinting  Seizures  Unwillingness to Move  \\\n",
              "0                     0  ...          0         0                      0   \n",
              "1                     0  ...          0         0                      0   \n",
              "2                     0  ...          0         0                      0   \n",
              "3                     0  ...          0         0                      0   \n",
              "4                     0  ...          0         0                      0   \n",
              "\n",
              "   Vomiting  Vision Loss/Blindness  Weight Loss  Whitish-appearing Pupil  \\\n",
              "0         0                      0            0                        0   \n",
              "1         0                      0            0                        0   \n",
              "2         0                      0            0                        0   \n",
              "3         0                      0            0                        0   \n",
              "4         0                      0            0                        0   \n",
              "\n",
              "   Yeasty Smell  Animal Type      Diagnosis  \n",
              "0             0          Dog  Ear Hematomas  \n",
              "1             0          Dog  Ear Hematomas  \n",
              "2             0          Dog  Ear Hematomas  \n",
              "3             0          Dog  Ear Hematomas  \n",
              "4             0          Dog  Ear Hematomas  \n",
              "\n",
              "[5 rows x 93 columns]"
            ],
            "text/html": [
              "\n",
              "  <div id=\"df-d5d42960-4b19-4dd7-b768-b3ff8a84c537\">\n",
              "    <div class=\"colab-df-container\">\n",
              "      <div>\n",
              "<style scoped>\n",
              "    .dataframe tbody tr th:only-of-type {\n",
              "        vertical-align: middle;\n",
              "    }\n",
              "\n",
              "    .dataframe tbody tr th {\n",
              "        vertical-align: top;\n",
              "    }\n",
              "\n",
              "    .dataframe thead th {\n",
              "        text-align: right;\n",
              "    }\n",
              "</style>\n",
              "<table border=\"1\" class=\"dataframe\">\n",
              "  <thead>\n",
              "    <tr style=\"text-align: right;\">\n",
              "      <th></th>\n",
              "      <th>Abdominal Pain</th>\n",
              "      <th>Abnormal Elevation of Inner Eyelid</th>\n",
              "      <th>Abnormal Coloration of One or More Teeth</th>\n",
              "      <th>Abnormal Posture</th>\n",
              "      <th>Abnormal Nail Color</th>\n",
              "      <th>Bad Odor</th>\n",
              "      <th>Bad Breath</th>\n",
              "      <th>Bleeding</th>\n",
              "      <th>Bleeding Gums</th>\n",
              "      <th>Blood in Urine/Feses</th>\n",
              "      <th>...</th>\n",
              "      <th>Squinting</th>\n",
              "      <th>Seizures</th>\n",
              "      <th>Unwillingness to Move</th>\n",
              "      <th>Vomiting</th>\n",
              "      <th>Vision Loss/Blindness</th>\n",
              "      <th>Weight Loss</th>\n",
              "      <th>Whitish-appearing Pupil</th>\n",
              "      <th>Yeasty Smell</th>\n",
              "      <th>Animal Type</th>\n",
              "      <th>Diagnosis</th>\n",
              "    </tr>\n",
              "  </thead>\n",
              "  <tbody>\n",
              "    <tr>\n",
              "      <th>0</th>\n",
              "      <td>0</td>\n",
              "      <td>0</td>\n",
              "      <td>0</td>\n",
              "      <td>0</td>\n",
              "      <td>0</td>\n",
              "      <td>0</td>\n",
              "      <td>0</td>\n",
              "      <td>0</td>\n",
              "      <td>0</td>\n",
              "      <td>0</td>\n",
              "      <td>...</td>\n",
              "      <td>0</td>\n",
              "      <td>0</td>\n",
              "      <td>0</td>\n",
              "      <td>0</td>\n",
              "      <td>0</td>\n",
              "      <td>0</td>\n",
              "      <td>0</td>\n",
              "      <td>0</td>\n",
              "      <td>Dog</td>\n",
              "      <td>Ear Hematomas</td>\n",
              "    </tr>\n",
              "    <tr>\n",
              "      <th>1</th>\n",
              "      <td>0</td>\n",
              "      <td>0</td>\n",
              "      <td>0</td>\n",
              "      <td>0</td>\n",
              "      <td>0</td>\n",
              "      <td>0</td>\n",
              "      <td>0</td>\n",
              "      <td>0</td>\n",
              "      <td>0</td>\n",
              "      <td>0</td>\n",
              "      <td>...</td>\n",
              "      <td>0</td>\n",
              "      <td>0</td>\n",
              "      <td>0</td>\n",
              "      <td>0</td>\n",
              "      <td>0</td>\n",
              "      <td>0</td>\n",
              "      <td>0</td>\n",
              "      <td>0</td>\n",
              "      <td>Dog</td>\n",
              "      <td>Ear Hematomas</td>\n",
              "    </tr>\n",
              "    <tr>\n",
              "      <th>2</th>\n",
              "      <td>0</td>\n",
              "      <td>0</td>\n",
              "      <td>0</td>\n",
              "      <td>0</td>\n",
              "      <td>0</td>\n",
              "      <td>0</td>\n",
              "      <td>0</td>\n",
              "      <td>0</td>\n",
              "      <td>0</td>\n",
              "      <td>0</td>\n",
              "      <td>...</td>\n",
              "      <td>0</td>\n",
              "      <td>0</td>\n",
              "      <td>0</td>\n",
              "      <td>0</td>\n",
              "      <td>0</td>\n",
              "      <td>0</td>\n",
              "      <td>0</td>\n",
              "      <td>0</td>\n",
              "      <td>Dog</td>\n",
              "      <td>Ear Hematomas</td>\n",
              "    </tr>\n",
              "    <tr>\n",
              "      <th>3</th>\n",
              "      <td>0</td>\n",
              "      <td>0</td>\n",
              "      <td>0</td>\n",
              "      <td>0</td>\n",
              "      <td>0</td>\n",
              "      <td>1</td>\n",
              "      <td>0</td>\n",
              "      <td>0</td>\n",
              "      <td>0</td>\n",
              "      <td>0</td>\n",
              "      <td>...</td>\n",
              "      <td>0</td>\n",
              "      <td>0</td>\n",
              "      <td>0</td>\n",
              "      <td>0</td>\n",
              "      <td>0</td>\n",
              "      <td>0</td>\n",
              "      <td>0</td>\n",
              "      <td>0</td>\n",
              "      <td>Dog</td>\n",
              "      <td>Ear Hematomas</td>\n",
              "    </tr>\n",
              "    <tr>\n",
              "      <th>4</th>\n",
              "      <td>0</td>\n",
              "      <td>0</td>\n",
              "      <td>0</td>\n",
              "      <td>0</td>\n",
              "      <td>0</td>\n",
              "      <td>1</td>\n",
              "      <td>0</td>\n",
              "      <td>0</td>\n",
              "      <td>0</td>\n",
              "      <td>0</td>\n",
              "      <td>...</td>\n",
              "      <td>0</td>\n",
              "      <td>0</td>\n",
              "      <td>0</td>\n",
              "      <td>0</td>\n",
              "      <td>0</td>\n",
              "      <td>0</td>\n",
              "      <td>0</td>\n",
              "      <td>0</td>\n",
              "      <td>Dog</td>\n",
              "      <td>Ear Hematomas</td>\n",
              "    </tr>\n",
              "  </tbody>\n",
              "</table>\n",
              "<p>5 rows × 93 columns</p>\n",
              "</div>\n",
              "      <button class=\"colab-df-convert\" onclick=\"convertToInteractive('df-d5d42960-4b19-4dd7-b768-b3ff8a84c537')\"\n",
              "              title=\"Convert this dataframe to an interactive table.\"\n",
              "              style=\"display:none;\">\n",
              "        \n",
              "  <svg xmlns=\"http://www.w3.org/2000/svg\" height=\"24px\"viewBox=\"0 0 24 24\"\n",
              "       width=\"24px\">\n",
              "    <path d=\"M0 0h24v24H0V0z\" fill=\"none\"/>\n",
              "    <path d=\"M18.56 5.44l.94 2.06.94-2.06 2.06-.94-2.06-.94-.94-2.06-.94 2.06-2.06.94zm-11 1L8.5 8.5l.94-2.06 2.06-.94-2.06-.94L8.5 2.5l-.94 2.06-2.06.94zm10 10l.94 2.06.94-2.06 2.06-.94-2.06-.94-.94-2.06-.94 2.06-2.06.94z\"/><path d=\"M17.41 7.96l-1.37-1.37c-.4-.4-.92-.59-1.43-.59-.52 0-1.04.2-1.43.59L10.3 9.45l-7.72 7.72c-.78.78-.78 2.05 0 2.83L4 21.41c.39.39.9.59 1.41.59.51 0 1.02-.2 1.41-.59l7.78-7.78 2.81-2.81c.8-.78.8-2.07 0-2.86zM5.41 20L4 18.59l7.72-7.72 1.47 1.35L5.41 20z\"/>\n",
              "  </svg>\n",
              "      </button>\n",
              "      \n",
              "  <style>\n",
              "    .colab-df-container {\n",
              "      display:flex;\n",
              "      flex-wrap:wrap;\n",
              "      gap: 12px;\n",
              "    }\n",
              "\n",
              "    .colab-df-convert {\n",
              "      background-color: #E8F0FE;\n",
              "      border: none;\n",
              "      border-radius: 50%;\n",
              "      cursor: pointer;\n",
              "      display: none;\n",
              "      fill: #1967D2;\n",
              "      height: 32px;\n",
              "      padding: 0 0 0 0;\n",
              "      width: 32px;\n",
              "    }\n",
              "\n",
              "    .colab-df-convert:hover {\n",
              "      background-color: #E2EBFA;\n",
              "      box-shadow: 0px 1px 2px rgba(60, 64, 67, 0.3), 0px 1px 3px 1px rgba(60, 64, 67, 0.15);\n",
              "      fill: #174EA6;\n",
              "    }\n",
              "\n",
              "    [theme=dark] .colab-df-convert {\n",
              "      background-color: #3B4455;\n",
              "      fill: #D2E3FC;\n",
              "    }\n",
              "\n",
              "    [theme=dark] .colab-df-convert:hover {\n",
              "      background-color: #434B5C;\n",
              "      box-shadow: 0px 1px 3px 1px rgba(0, 0, 0, 0.15);\n",
              "      filter: drop-shadow(0px 1px 2px rgba(0, 0, 0, 0.3));\n",
              "      fill: #FFFFFF;\n",
              "    }\n",
              "  </style>\n",
              "\n",
              "      <script>\n",
              "        const buttonEl =\n",
              "          document.querySelector('#df-d5d42960-4b19-4dd7-b768-b3ff8a84c537 button.colab-df-convert');\n",
              "        buttonEl.style.display =\n",
              "          google.colab.kernel.accessAllowed ? 'block' : 'none';\n",
              "\n",
              "        async function convertToInteractive(key) {\n",
              "          const element = document.querySelector('#df-d5d42960-4b19-4dd7-b768-b3ff8a84c537');\n",
              "          const dataTable =\n",
              "            await google.colab.kernel.invokeFunction('convertToInteractive',\n",
              "                                                     [key], {});\n",
              "          if (!dataTable) return;\n",
              "\n",
              "          const docLinkHtml = 'Like what you see? Visit the ' +\n",
              "            '<a target=\"_blank\" href=https://colab.research.google.com/notebooks/data_table.ipynb>data table notebook</a>'\n",
              "            + ' to learn more about interactive tables.';\n",
              "          element.innerHTML = '';\n",
              "          dataTable['output_type'] = 'display_data';\n",
              "          await google.colab.output.renderOutput(dataTable, element);\n",
              "          const docLink = document.createElement('div');\n",
              "          docLink.innerHTML = docLinkHtml;\n",
              "          element.appendChild(docLink);\n",
              "        }\n",
              "      </script>\n",
              "    </div>\n",
              "  </div>\n",
              "  "
            ]
          },
          "metadata": {},
          "execution_count": 2
        }
      ]
    },
    {
      "cell_type": "code",
      "source": [
        "traintest = dataframe.copy()\n",
        "#traintest.drop(['Animal Type'], axis=1, inplace=True)\n",
        "traintest.head()"
      ],
      "metadata": {
        "colab": {
          "base_uri": "https://localhost:8080/",
          "height": 438
        },
        "id": "yKPkqr0nxPCx",
        "outputId": "3ac1957b-0b2f-4ea5-aa2f-94fa2e3dc9ee"
      },
      "execution_count": 3,
      "outputs": [
        {
          "output_type": "execute_result",
          "data": {
            "text/plain": [
              "   Abdominal Pain  Abnormal Elevation of Inner Eyelid  \\\n",
              "0               0                                   0   \n",
              "1               0                                   0   \n",
              "2               0                                   0   \n",
              "3               0                                   0   \n",
              "4               0                                   0   \n",
              "\n",
              "   Abnormal Coloration of One or More Teeth  Abnormal Posture  \\\n",
              "0                                         0                 0   \n",
              "1                                         0                 0   \n",
              "2                                         0                 0   \n",
              "3                                         0                 0   \n",
              "4                                         0                 0   \n",
              "\n",
              "   Abnormal Nail Color  Bad Odor  Bad Breath  Bleeding  Bleeding Gums  \\\n",
              "0                    0         0           0         0              0   \n",
              "1                    0         0           0         0              0   \n",
              "2                    0         0           0         0              0   \n",
              "3                    0         1           0         0              0   \n",
              "4                    0         1           0         0              0   \n",
              "\n",
              "   Blood in Urine/Feses  ...  Squinting  Seizures  Unwillingness to Move  \\\n",
              "0                     0  ...          0         0                      0   \n",
              "1                     0  ...          0         0                      0   \n",
              "2                     0  ...          0         0                      0   \n",
              "3                     0  ...          0         0                      0   \n",
              "4                     0  ...          0         0                      0   \n",
              "\n",
              "   Vomiting  Vision Loss/Blindness  Weight Loss  Whitish-appearing Pupil  \\\n",
              "0         0                      0            0                        0   \n",
              "1         0                      0            0                        0   \n",
              "2         0                      0            0                        0   \n",
              "3         0                      0            0                        0   \n",
              "4         0                      0            0                        0   \n",
              "\n",
              "   Yeasty Smell  Animal Type      Diagnosis  \n",
              "0             0          Dog  Ear Hematomas  \n",
              "1             0          Dog  Ear Hematomas  \n",
              "2             0          Dog  Ear Hematomas  \n",
              "3             0          Dog  Ear Hematomas  \n",
              "4             0          Dog  Ear Hematomas  \n",
              "\n",
              "[5 rows x 93 columns]"
            ],
            "text/html": [
              "\n",
              "  <div id=\"df-01a9541a-1b8d-429b-a7c6-515705a0ad89\">\n",
              "    <div class=\"colab-df-container\">\n",
              "      <div>\n",
              "<style scoped>\n",
              "    .dataframe tbody tr th:only-of-type {\n",
              "        vertical-align: middle;\n",
              "    }\n",
              "\n",
              "    .dataframe tbody tr th {\n",
              "        vertical-align: top;\n",
              "    }\n",
              "\n",
              "    .dataframe thead th {\n",
              "        text-align: right;\n",
              "    }\n",
              "</style>\n",
              "<table border=\"1\" class=\"dataframe\">\n",
              "  <thead>\n",
              "    <tr style=\"text-align: right;\">\n",
              "      <th></th>\n",
              "      <th>Abdominal Pain</th>\n",
              "      <th>Abnormal Elevation of Inner Eyelid</th>\n",
              "      <th>Abnormal Coloration of One or More Teeth</th>\n",
              "      <th>Abnormal Posture</th>\n",
              "      <th>Abnormal Nail Color</th>\n",
              "      <th>Bad Odor</th>\n",
              "      <th>Bad Breath</th>\n",
              "      <th>Bleeding</th>\n",
              "      <th>Bleeding Gums</th>\n",
              "      <th>Blood in Urine/Feses</th>\n",
              "      <th>...</th>\n",
              "      <th>Squinting</th>\n",
              "      <th>Seizures</th>\n",
              "      <th>Unwillingness to Move</th>\n",
              "      <th>Vomiting</th>\n",
              "      <th>Vision Loss/Blindness</th>\n",
              "      <th>Weight Loss</th>\n",
              "      <th>Whitish-appearing Pupil</th>\n",
              "      <th>Yeasty Smell</th>\n",
              "      <th>Animal Type</th>\n",
              "      <th>Diagnosis</th>\n",
              "    </tr>\n",
              "  </thead>\n",
              "  <tbody>\n",
              "    <tr>\n",
              "      <th>0</th>\n",
              "      <td>0</td>\n",
              "      <td>0</td>\n",
              "      <td>0</td>\n",
              "      <td>0</td>\n",
              "      <td>0</td>\n",
              "      <td>0</td>\n",
              "      <td>0</td>\n",
              "      <td>0</td>\n",
              "      <td>0</td>\n",
              "      <td>0</td>\n",
              "      <td>...</td>\n",
              "      <td>0</td>\n",
              "      <td>0</td>\n",
              "      <td>0</td>\n",
              "      <td>0</td>\n",
              "      <td>0</td>\n",
              "      <td>0</td>\n",
              "      <td>0</td>\n",
              "      <td>0</td>\n",
              "      <td>Dog</td>\n",
              "      <td>Ear Hematomas</td>\n",
              "    </tr>\n",
              "    <tr>\n",
              "      <th>1</th>\n",
              "      <td>0</td>\n",
              "      <td>0</td>\n",
              "      <td>0</td>\n",
              "      <td>0</td>\n",
              "      <td>0</td>\n",
              "      <td>0</td>\n",
              "      <td>0</td>\n",
              "      <td>0</td>\n",
              "      <td>0</td>\n",
              "      <td>0</td>\n",
              "      <td>...</td>\n",
              "      <td>0</td>\n",
              "      <td>0</td>\n",
              "      <td>0</td>\n",
              "      <td>0</td>\n",
              "      <td>0</td>\n",
              "      <td>0</td>\n",
              "      <td>0</td>\n",
              "      <td>0</td>\n",
              "      <td>Dog</td>\n",
              "      <td>Ear Hematomas</td>\n",
              "    </tr>\n",
              "    <tr>\n",
              "      <th>2</th>\n",
              "      <td>0</td>\n",
              "      <td>0</td>\n",
              "      <td>0</td>\n",
              "      <td>0</td>\n",
              "      <td>0</td>\n",
              "      <td>0</td>\n",
              "      <td>0</td>\n",
              "      <td>0</td>\n",
              "      <td>0</td>\n",
              "      <td>0</td>\n",
              "      <td>...</td>\n",
              "      <td>0</td>\n",
              "      <td>0</td>\n",
              "      <td>0</td>\n",
              "      <td>0</td>\n",
              "      <td>0</td>\n",
              "      <td>0</td>\n",
              "      <td>0</td>\n",
              "      <td>0</td>\n",
              "      <td>Dog</td>\n",
              "      <td>Ear Hematomas</td>\n",
              "    </tr>\n",
              "    <tr>\n",
              "      <th>3</th>\n",
              "      <td>0</td>\n",
              "      <td>0</td>\n",
              "      <td>0</td>\n",
              "      <td>0</td>\n",
              "      <td>0</td>\n",
              "      <td>1</td>\n",
              "      <td>0</td>\n",
              "      <td>0</td>\n",
              "      <td>0</td>\n",
              "      <td>0</td>\n",
              "      <td>...</td>\n",
              "      <td>0</td>\n",
              "      <td>0</td>\n",
              "      <td>0</td>\n",
              "      <td>0</td>\n",
              "      <td>0</td>\n",
              "      <td>0</td>\n",
              "      <td>0</td>\n",
              "      <td>0</td>\n",
              "      <td>Dog</td>\n",
              "      <td>Ear Hematomas</td>\n",
              "    </tr>\n",
              "    <tr>\n",
              "      <th>4</th>\n",
              "      <td>0</td>\n",
              "      <td>0</td>\n",
              "      <td>0</td>\n",
              "      <td>0</td>\n",
              "      <td>0</td>\n",
              "      <td>1</td>\n",
              "      <td>0</td>\n",
              "      <td>0</td>\n",
              "      <td>0</td>\n",
              "      <td>0</td>\n",
              "      <td>...</td>\n",
              "      <td>0</td>\n",
              "      <td>0</td>\n",
              "      <td>0</td>\n",
              "      <td>0</td>\n",
              "      <td>0</td>\n",
              "      <td>0</td>\n",
              "      <td>0</td>\n",
              "      <td>0</td>\n",
              "      <td>Dog</td>\n",
              "      <td>Ear Hematomas</td>\n",
              "    </tr>\n",
              "  </tbody>\n",
              "</table>\n",
              "<p>5 rows × 93 columns</p>\n",
              "</div>\n",
              "      <button class=\"colab-df-convert\" onclick=\"convertToInteractive('df-01a9541a-1b8d-429b-a7c6-515705a0ad89')\"\n",
              "              title=\"Convert this dataframe to an interactive table.\"\n",
              "              style=\"display:none;\">\n",
              "        \n",
              "  <svg xmlns=\"http://www.w3.org/2000/svg\" height=\"24px\"viewBox=\"0 0 24 24\"\n",
              "       width=\"24px\">\n",
              "    <path d=\"M0 0h24v24H0V0z\" fill=\"none\"/>\n",
              "    <path d=\"M18.56 5.44l.94 2.06.94-2.06 2.06-.94-2.06-.94-.94-2.06-.94 2.06-2.06.94zm-11 1L8.5 8.5l.94-2.06 2.06-.94-2.06-.94L8.5 2.5l-.94 2.06-2.06.94zm10 10l.94 2.06.94-2.06 2.06-.94-2.06-.94-.94-2.06-.94 2.06-2.06.94z\"/><path d=\"M17.41 7.96l-1.37-1.37c-.4-.4-.92-.59-1.43-.59-.52 0-1.04.2-1.43.59L10.3 9.45l-7.72 7.72c-.78.78-.78 2.05 0 2.83L4 21.41c.39.39.9.59 1.41.59.51 0 1.02-.2 1.41-.59l7.78-7.78 2.81-2.81c.8-.78.8-2.07 0-2.86zM5.41 20L4 18.59l7.72-7.72 1.47 1.35L5.41 20z\"/>\n",
              "  </svg>\n",
              "      </button>\n",
              "      \n",
              "  <style>\n",
              "    .colab-df-container {\n",
              "      display:flex;\n",
              "      flex-wrap:wrap;\n",
              "      gap: 12px;\n",
              "    }\n",
              "\n",
              "    .colab-df-convert {\n",
              "      background-color: #E8F0FE;\n",
              "      border: none;\n",
              "      border-radius: 50%;\n",
              "      cursor: pointer;\n",
              "      display: none;\n",
              "      fill: #1967D2;\n",
              "      height: 32px;\n",
              "      padding: 0 0 0 0;\n",
              "      width: 32px;\n",
              "    }\n",
              "\n",
              "    .colab-df-convert:hover {\n",
              "      background-color: #E2EBFA;\n",
              "      box-shadow: 0px 1px 2px rgba(60, 64, 67, 0.3), 0px 1px 3px 1px rgba(60, 64, 67, 0.15);\n",
              "      fill: #174EA6;\n",
              "    }\n",
              "\n",
              "    [theme=dark] .colab-df-convert {\n",
              "      background-color: #3B4455;\n",
              "      fill: #D2E3FC;\n",
              "    }\n",
              "\n",
              "    [theme=dark] .colab-df-convert:hover {\n",
              "      background-color: #434B5C;\n",
              "      box-shadow: 0px 1px 3px 1px rgba(0, 0, 0, 0.15);\n",
              "      filter: drop-shadow(0px 1px 2px rgba(0, 0, 0, 0.3));\n",
              "      fill: #FFFFFF;\n",
              "    }\n",
              "  </style>\n",
              "\n",
              "      <script>\n",
              "        const buttonEl =\n",
              "          document.querySelector('#df-01a9541a-1b8d-429b-a7c6-515705a0ad89 button.colab-df-convert');\n",
              "        buttonEl.style.display =\n",
              "          google.colab.kernel.accessAllowed ? 'block' : 'none';\n",
              "\n",
              "        async function convertToInteractive(key) {\n",
              "          const element = document.querySelector('#df-01a9541a-1b8d-429b-a7c6-515705a0ad89');\n",
              "          const dataTable =\n",
              "            await google.colab.kernel.invokeFunction('convertToInteractive',\n",
              "                                                     [key], {});\n",
              "          if (!dataTable) return;\n",
              "\n",
              "          const docLinkHtml = 'Like what you see? Visit the ' +\n",
              "            '<a target=\"_blank\" href=https://colab.research.google.com/notebooks/data_table.ipynb>data table notebook</a>'\n",
              "            + ' to learn more about interactive tables.';\n",
              "          element.innerHTML = '';\n",
              "          dataTable['output_type'] = 'display_data';\n",
              "          await google.colab.output.renderOutput(dataTable, element);\n",
              "          const docLink = document.createElement('div');\n",
              "          docLink.innerHTML = docLinkHtml;\n",
              "          element.appendChild(docLink);\n",
              "        }\n",
              "      </script>\n",
              "    </div>\n",
              "  </div>\n",
              "  "
            ]
          },
          "metadata": {},
          "execution_count": 3
        }
      ]
    },
    {
      "cell_type": "code",
      "source": [
        "label_encoder = LabelEncoder()\n",
        "traintest.loc[:,\"Animal Type\"] = label_encoder.fit_transform(traintest.iloc[:,-2])"
      ],
      "metadata": {
        "id": "fZ27X8UQbyaa"
      },
      "execution_count": 4,
      "outputs": []
    },
    {
      "cell_type": "code",
      "source": [
        "X = traintest.drop(['Diagnosis'], axis=1)\n",
        "Y = traintest['Diagnosis']\n",
        "X.head()"
      ],
      "metadata": {
        "colab": {
          "base_uri": "https://localhost:8080/",
          "height": 352
        },
        "id": "ZLI4t4Nexx6k",
        "outputId": "90546225-2a5c-43e8-d3fc-74f6cc4e53e1"
      },
      "execution_count": 5,
      "outputs": [
        {
          "output_type": "execute_result",
          "data": {
            "text/plain": [
              "   Abdominal Pain  Abnormal Elevation of Inner Eyelid  \\\n",
              "0               0                                   0   \n",
              "1               0                                   0   \n",
              "2               0                                   0   \n",
              "3               0                                   0   \n",
              "4               0                                   0   \n",
              "\n",
              "   Abnormal Coloration of One or More Teeth  Abnormal Posture  \\\n",
              "0                                         0                 0   \n",
              "1                                         0                 0   \n",
              "2                                         0                 0   \n",
              "3                                         0                 0   \n",
              "4                                         0                 0   \n",
              "\n",
              "   Abnormal Nail Color  Bad Odor  Bad Breath  Bleeding  Bleeding Gums  \\\n",
              "0                    0         0           0         0              0   \n",
              "1                    0         0           0         0              0   \n",
              "2                    0         0           0         0              0   \n",
              "3                    0         1           0         0              0   \n",
              "4                    0         1           0         0              0   \n",
              "\n",
              "   Blood in Urine/Feses  ...  Swelling  Squinting  Seizures  \\\n",
              "0                     0  ...         0          0         0   \n",
              "1                     0  ...         0          0         0   \n",
              "2                     0  ...         0          0         0   \n",
              "3                     0  ...         0          0         0   \n",
              "4                     0  ...         0          0         0   \n",
              "\n",
              "   Unwillingness to Move  Vomiting  Vision Loss/Blindness  Weight Loss  \\\n",
              "0                      0         0                      0            0   \n",
              "1                      0         0                      0            0   \n",
              "2                      0         0                      0            0   \n",
              "3                      0         0                      0            0   \n",
              "4                      0         0                      0            0   \n",
              "\n",
              "   Whitish-appearing Pupil  Yeasty Smell  Animal Type  \n",
              "0                        0             0            1  \n",
              "1                        0             0            1  \n",
              "2                        0             0            1  \n",
              "3                        0             0            1  \n",
              "4                        0             0            1  \n",
              "\n",
              "[5 rows x 92 columns]"
            ],
            "text/html": [
              "\n",
              "  <div id=\"df-141fa63c-908f-4ac3-bc0d-32343529df2d\">\n",
              "    <div class=\"colab-df-container\">\n",
              "      <div>\n",
              "<style scoped>\n",
              "    .dataframe tbody tr th:only-of-type {\n",
              "        vertical-align: middle;\n",
              "    }\n",
              "\n",
              "    .dataframe tbody tr th {\n",
              "        vertical-align: top;\n",
              "    }\n",
              "\n",
              "    .dataframe thead th {\n",
              "        text-align: right;\n",
              "    }\n",
              "</style>\n",
              "<table border=\"1\" class=\"dataframe\">\n",
              "  <thead>\n",
              "    <tr style=\"text-align: right;\">\n",
              "      <th></th>\n",
              "      <th>Abdominal Pain</th>\n",
              "      <th>Abnormal Elevation of Inner Eyelid</th>\n",
              "      <th>Abnormal Coloration of One or More Teeth</th>\n",
              "      <th>Abnormal Posture</th>\n",
              "      <th>Abnormal Nail Color</th>\n",
              "      <th>Bad Odor</th>\n",
              "      <th>Bad Breath</th>\n",
              "      <th>Bleeding</th>\n",
              "      <th>Bleeding Gums</th>\n",
              "      <th>Blood in Urine/Feses</th>\n",
              "      <th>...</th>\n",
              "      <th>Swelling</th>\n",
              "      <th>Squinting</th>\n",
              "      <th>Seizures</th>\n",
              "      <th>Unwillingness to Move</th>\n",
              "      <th>Vomiting</th>\n",
              "      <th>Vision Loss/Blindness</th>\n",
              "      <th>Weight Loss</th>\n",
              "      <th>Whitish-appearing Pupil</th>\n",
              "      <th>Yeasty Smell</th>\n",
              "      <th>Animal Type</th>\n",
              "    </tr>\n",
              "  </thead>\n",
              "  <tbody>\n",
              "    <tr>\n",
              "      <th>0</th>\n",
              "      <td>0</td>\n",
              "      <td>0</td>\n",
              "      <td>0</td>\n",
              "      <td>0</td>\n",
              "      <td>0</td>\n",
              "      <td>0</td>\n",
              "      <td>0</td>\n",
              "      <td>0</td>\n",
              "      <td>0</td>\n",
              "      <td>0</td>\n",
              "      <td>...</td>\n",
              "      <td>0</td>\n",
              "      <td>0</td>\n",
              "      <td>0</td>\n",
              "      <td>0</td>\n",
              "      <td>0</td>\n",
              "      <td>0</td>\n",
              "      <td>0</td>\n",
              "      <td>0</td>\n",
              "      <td>0</td>\n",
              "      <td>1</td>\n",
              "    </tr>\n",
              "    <tr>\n",
              "      <th>1</th>\n",
              "      <td>0</td>\n",
              "      <td>0</td>\n",
              "      <td>0</td>\n",
              "      <td>0</td>\n",
              "      <td>0</td>\n",
              "      <td>0</td>\n",
              "      <td>0</td>\n",
              "      <td>0</td>\n",
              "      <td>0</td>\n",
              "      <td>0</td>\n",
              "      <td>...</td>\n",
              "      <td>0</td>\n",
              "      <td>0</td>\n",
              "      <td>0</td>\n",
              "      <td>0</td>\n",
              "      <td>0</td>\n",
              "      <td>0</td>\n",
              "      <td>0</td>\n",
              "      <td>0</td>\n",
              "      <td>0</td>\n",
              "      <td>1</td>\n",
              "    </tr>\n",
              "    <tr>\n",
              "      <th>2</th>\n",
              "      <td>0</td>\n",
              "      <td>0</td>\n",
              "      <td>0</td>\n",
              "      <td>0</td>\n",
              "      <td>0</td>\n",
              "      <td>0</td>\n",
              "      <td>0</td>\n",
              "      <td>0</td>\n",
              "      <td>0</td>\n",
              "      <td>0</td>\n",
              "      <td>...</td>\n",
              "      <td>0</td>\n",
              "      <td>0</td>\n",
              "      <td>0</td>\n",
              "      <td>0</td>\n",
              "      <td>0</td>\n",
              "      <td>0</td>\n",
              "      <td>0</td>\n",
              "      <td>0</td>\n",
              "      <td>0</td>\n",
              "      <td>1</td>\n",
              "    </tr>\n",
              "    <tr>\n",
              "      <th>3</th>\n",
              "      <td>0</td>\n",
              "      <td>0</td>\n",
              "      <td>0</td>\n",
              "      <td>0</td>\n",
              "      <td>0</td>\n",
              "      <td>1</td>\n",
              "      <td>0</td>\n",
              "      <td>0</td>\n",
              "      <td>0</td>\n",
              "      <td>0</td>\n",
              "      <td>...</td>\n",
              "      <td>0</td>\n",
              "      <td>0</td>\n",
              "      <td>0</td>\n",
              "      <td>0</td>\n",
              "      <td>0</td>\n",
              "      <td>0</td>\n",
              "      <td>0</td>\n",
              "      <td>0</td>\n",
              "      <td>0</td>\n",
              "      <td>1</td>\n",
              "    </tr>\n",
              "    <tr>\n",
              "      <th>4</th>\n",
              "      <td>0</td>\n",
              "      <td>0</td>\n",
              "      <td>0</td>\n",
              "      <td>0</td>\n",
              "      <td>0</td>\n",
              "      <td>1</td>\n",
              "      <td>0</td>\n",
              "      <td>0</td>\n",
              "      <td>0</td>\n",
              "      <td>0</td>\n",
              "      <td>...</td>\n",
              "      <td>0</td>\n",
              "      <td>0</td>\n",
              "      <td>0</td>\n",
              "      <td>0</td>\n",
              "      <td>0</td>\n",
              "      <td>0</td>\n",
              "      <td>0</td>\n",
              "      <td>0</td>\n",
              "      <td>0</td>\n",
              "      <td>1</td>\n",
              "    </tr>\n",
              "  </tbody>\n",
              "</table>\n",
              "<p>5 rows × 92 columns</p>\n",
              "</div>\n",
              "      <button class=\"colab-df-convert\" onclick=\"convertToInteractive('df-141fa63c-908f-4ac3-bc0d-32343529df2d')\"\n",
              "              title=\"Convert this dataframe to an interactive table.\"\n",
              "              style=\"display:none;\">\n",
              "        \n",
              "  <svg xmlns=\"http://www.w3.org/2000/svg\" height=\"24px\"viewBox=\"0 0 24 24\"\n",
              "       width=\"24px\">\n",
              "    <path d=\"M0 0h24v24H0V0z\" fill=\"none\"/>\n",
              "    <path d=\"M18.56 5.44l.94 2.06.94-2.06 2.06-.94-2.06-.94-.94-2.06-.94 2.06-2.06.94zm-11 1L8.5 8.5l.94-2.06 2.06-.94-2.06-.94L8.5 2.5l-.94 2.06-2.06.94zm10 10l.94 2.06.94-2.06 2.06-.94-2.06-.94-.94-2.06-.94 2.06-2.06.94z\"/><path d=\"M17.41 7.96l-1.37-1.37c-.4-.4-.92-.59-1.43-.59-.52 0-1.04.2-1.43.59L10.3 9.45l-7.72 7.72c-.78.78-.78 2.05 0 2.83L4 21.41c.39.39.9.59 1.41.59.51 0 1.02-.2 1.41-.59l7.78-7.78 2.81-2.81c.8-.78.8-2.07 0-2.86zM5.41 20L4 18.59l7.72-7.72 1.47 1.35L5.41 20z\"/>\n",
              "  </svg>\n",
              "      </button>\n",
              "      \n",
              "  <style>\n",
              "    .colab-df-container {\n",
              "      display:flex;\n",
              "      flex-wrap:wrap;\n",
              "      gap: 12px;\n",
              "    }\n",
              "\n",
              "    .colab-df-convert {\n",
              "      background-color: #E8F0FE;\n",
              "      border: none;\n",
              "      border-radius: 50%;\n",
              "      cursor: pointer;\n",
              "      display: none;\n",
              "      fill: #1967D2;\n",
              "      height: 32px;\n",
              "      padding: 0 0 0 0;\n",
              "      width: 32px;\n",
              "    }\n",
              "\n",
              "    .colab-df-convert:hover {\n",
              "      background-color: #E2EBFA;\n",
              "      box-shadow: 0px 1px 2px rgba(60, 64, 67, 0.3), 0px 1px 3px 1px rgba(60, 64, 67, 0.15);\n",
              "      fill: #174EA6;\n",
              "    }\n",
              "\n",
              "    [theme=dark] .colab-df-convert {\n",
              "      background-color: #3B4455;\n",
              "      fill: #D2E3FC;\n",
              "    }\n",
              "\n",
              "    [theme=dark] .colab-df-convert:hover {\n",
              "      background-color: #434B5C;\n",
              "      box-shadow: 0px 1px 3px 1px rgba(0, 0, 0, 0.15);\n",
              "      filter: drop-shadow(0px 1px 2px rgba(0, 0, 0, 0.3));\n",
              "      fill: #FFFFFF;\n",
              "    }\n",
              "  </style>\n",
              "\n",
              "      <script>\n",
              "        const buttonEl =\n",
              "          document.querySelector('#df-141fa63c-908f-4ac3-bc0d-32343529df2d button.colab-df-convert');\n",
              "        buttonEl.style.display =\n",
              "          google.colab.kernel.accessAllowed ? 'block' : 'none';\n",
              "\n",
              "        async function convertToInteractive(key) {\n",
              "          const element = document.querySelector('#df-141fa63c-908f-4ac3-bc0d-32343529df2d');\n",
              "          const dataTable =\n",
              "            await google.colab.kernel.invokeFunction('convertToInteractive',\n",
              "                                                     [key], {});\n",
              "          if (!dataTable) return;\n",
              "\n",
              "          const docLinkHtml = 'Like what you see? Visit the ' +\n",
              "            '<a target=\"_blank\" href=https://colab.research.google.com/notebooks/data_table.ipynb>data table notebook</a>'\n",
              "            + ' to learn more about interactive tables.';\n",
              "          element.innerHTML = '';\n",
              "          dataTable['output_type'] = 'display_data';\n",
              "          await google.colab.output.renderOutput(dataTable, element);\n",
              "          const docLink = document.createElement('div');\n",
              "          docLink.innerHTML = docLinkHtml;\n",
              "          element.appendChild(docLink);\n",
              "        }\n",
              "      </script>\n",
              "    </div>\n",
              "  </div>\n",
              "  "
            ]
          },
          "metadata": {},
          "execution_count": 5
        }
      ]
    },
    {
      "cell_type": "code",
      "source": [
        "x_kolom = list(X.columns.values)\n",
        "len(x_kolom)"
      ],
      "metadata": {
        "id": "NHhqiYuA1rYE",
        "colab": {
          "base_uri": "https://localhost:8080/"
        },
        "outputId": "23767ab1-87e0-4802-ee32-bac966cb0607"
      },
      "execution_count": 6,
      "outputs": [
        {
          "output_type": "execute_result",
          "data": {
            "text/plain": [
              "92"
            ]
          },
          "metadata": {},
          "execution_count": 6
        }
      ]
    },
    {
      "cell_type": "code",
      "source": [
        "X_train = np.array(X.iloc[:-56,:])\n",
        "X_test = np.array(X.iloc[-56:,:])\n",
        "\n",
        "Y_train = np.array(Y.iloc[:-56])\n",
        "Y_test = np.array(Y.iloc[-56:])"
      ],
      "metadata": {
        "id": "o4AHRrF8ybIU"
      },
      "execution_count": 7,
      "outputs": []
    },
    {
      "cell_type": "code",
      "source": [
        "Y_test"
      ],
      "metadata": {
        "id": "BpEqg0PpWQcw",
        "outputId": "da4db9a2-1c4c-445e-aba8-c66f815ec742",
        "colab": {
          "base_uri": "https://localhost:8080/"
        }
      },
      "execution_count": 8,
      "outputs": [
        {
          "output_type": "execute_result",
          "data": {
            "text/plain": [
              "array(['Ear Hematomas', 'Ear Infections', 'Retinal Hemorrhage',\n",
              "       'Blepharitis', 'Cataracts', 'Conjunctivitis', 'Horner’s Syndrome',\n",
              "       'Ectropion', 'Eyeworms', 'Glaucoma', 'Epiphora',\n",
              "       'Dental abscesses', 'Anal sac abscess', 'Atopic Dermatitis',\n",
              "       'Bacterial Infection', 'Nail Disorders', 'Lockjaw', 'Halitosis',\n",
              "       'Ptyalism', 'Oral Ulceration', 'Epulis', 'Otitis Media',\n",
              "       'Otitis Interna', 'Iris Bombe - Complete Posterior Synechiae',\n",
              "       'Uveitis', 'Inflammation of the Eye', 'Blepharitis',\n",
              "       'Dry Eye Syndrome', 'Claw and Nail Disorders', 'Chiggers',\n",
              "       'Ear Mites', 'Otitis Externa', 'Vestibular Disease',\n",
              "       'Exophthalmos', 'Hyperemia', 'Red Eye', 'Pyoderma', 'Pruritus',\n",
              "       'Incisor Malocclusion', 'Molar', 'Premolar', 'Elongation',\n",
              "       'Ptyalism', 'Apical Abscesses', 'Tooth Abscess', 'Cleft Palate',\n",
              "       'Gingivitis', 'Laryngeal Paralysis', 'Oral Ulceration',\n",
              "       'Chronic Ulcerative Paradental Stomatitis', 'Stomatitis', 'Epulis',\n",
              "       'Tooth Resorption', 'Abscess', 'Entropion',\n",
              "       'Bacterial Infection (Actinomycosis)'], dtype=object)"
            ]
          },
          "metadata": {},
          "execution_count": 8
        }
      ]
    },
    {
      "cell_type": "code",
      "source": [
        "X_train.shape"
      ],
      "metadata": {
        "colab": {
          "base_uri": "https://localhost:8080/"
        },
        "id": "kZJ5IvrcZA6f",
        "outputId": "26ab5646-18a9-4914-baa6-d64666432a5c"
      },
      "execution_count": 9,
      "outputs": [
        {
          "output_type": "execute_result",
          "data": {
            "text/plain": [
              "(348, 92)"
            ]
          },
          "metadata": {},
          "execution_count": 9
        }
      ]
    },
    {
      "cell_type": "code",
      "source": [
        "Y_train_encode = pd.get_dummies(Y_train)\n",
        "Y_train_encode.shape"
      ],
      "metadata": {
        "colab": {
          "base_uri": "https://localhost:8080/"
        },
        "id": "i2UaJJWKzrKi",
        "outputId": "7612fbda-5610-429f-c09f-609f267dcfc3"
      },
      "execution_count": 10,
      "outputs": [
        {
          "output_type": "execute_result",
          "data": {
            "text/plain": [
              "(348, 52)"
            ]
          },
          "metadata": {},
          "execution_count": 10
        }
      ]
    },
    {
      "cell_type": "code",
      "source": [
        "Y_test_encode = pd.get_dummies(Y_test)\n",
        "Y_test_encode.shape"
      ],
      "metadata": {
        "id": "sehS_DAYATXo",
        "colab": {
          "base_uri": "https://localhost:8080/"
        },
        "outputId": "0b16a197-3518-4061-89bc-f2d39c455190"
      },
      "execution_count": 11,
      "outputs": [
        {
          "output_type": "execute_result",
          "data": {
            "text/plain": [
              "(56, 52)"
            ]
          },
          "metadata": {},
          "execution_count": 11
        }
      ]
    },
    {
      "cell_type": "code",
      "source": [
        "model = tf.keras.models.Sequential([\n",
        "    #tf.keras.layers.Flatten(),\n",
        "    #tf.keras.layers.Dense(64, activation='relu', input_dim=x_train.shape[1]),\n",
        "    tf.keras.layers.Dense(92, activation='relu', input_shape = (X_train.shape[1], )),\n",
        "    tf.keras.layers.Dense(64, activation='relu'),\n",
        "    tf.keras.layers.Dense(64, activation='relu'),\n",
        "    #tf.keras.layers.Dense(256, activation='relu'),\n",
        "    tf.keras.layers.Dense(52, activation='softmax')\n",
        "])\n",
        "\n",
        "model.summary()"
      ],
      "metadata": {
        "id": "BMsQSje9AVHH",
        "outputId": "72659931-7399-44c5-829f-23e87b8f0037",
        "colab": {
          "base_uri": "https://localhost:8080/"
        }
      },
      "execution_count": 12,
      "outputs": [
        {
          "output_type": "stream",
          "name": "stdout",
          "text": [
            "Model: \"sequential\"\n",
            "_________________________________________________________________\n",
            " Layer (type)                Output Shape              Param #   \n",
            "=================================================================\n",
            " dense (Dense)               (None, 92)                8556      \n",
            "                                                                 \n",
            " dense_1 (Dense)             (None, 64)                5952      \n",
            "                                                                 \n",
            " dense_2 (Dense)             (None, 64)                4160      \n",
            "                                                                 \n",
            " dense_3 (Dense)             (None, 52)                3380      \n",
            "                                                                 \n",
            "=================================================================\n",
            "Total params: 22,048\n",
            "Trainable params: 22,048\n",
            "Non-trainable params: 0\n",
            "_________________________________________________________________\n"
          ]
        }
      ]
    },
    {
      "cell_type": "code",
      "source": [
        "model.compile(loss=tf.keras.losses.CategoricalCrossentropy(), optimizer=tf.optimizers.Adam(), metrics=['accuracy'])"
      ],
      "metadata": {
        "id": "hlDYurPYAbX8"
      },
      "execution_count": 13,
      "outputs": []
    },
    {
      "cell_type": "code",
      "source": [
        "# train model\n",
        "history = model.fit(X_train, Y_train_encode, epochs=50, validation_split=0.2)"
      ],
      "metadata": {
        "colab": {
          "base_uri": "https://localhost:8080/"
        },
        "id": "p_fmGRlyAfUg",
        "outputId": "85eb0f56-309a-4f96-ab1f-8890acadb6e0"
      },
      "execution_count": 14,
      "outputs": [
        {
          "output_type": "stream",
          "name": "stdout",
          "text": [
            "Epoch 1/50\n",
            "9/9 [==============================] - 1s 23ms/step - loss: 3.9480 - accuracy: 0.0252 - val_loss: 3.8922 - val_accuracy: 0.0571\n",
            "Epoch 2/50\n",
            "9/9 [==============================] - 0s 4ms/step - loss: 3.8311 - accuracy: 0.1942 - val_loss: 3.8042 - val_accuracy: 0.1857\n",
            "Epoch 3/50\n",
            "9/9 [==============================] - 0s 4ms/step - loss: 3.7074 - accuracy: 0.2698 - val_loss: 3.6933 - val_accuracy: 0.2429\n",
            "Epoch 4/50\n",
            "9/9 [==============================] - 0s 4ms/step - loss: 3.5188 - accuracy: 0.2878 - val_loss: 3.5342 - val_accuracy: 0.2286\n",
            "Epoch 5/50\n",
            "9/9 [==============================] - 0s 4ms/step - loss: 3.2446 - accuracy: 0.3022 - val_loss: 3.3169 - val_accuracy: 0.2286\n",
            "Epoch 6/50\n",
            "9/9 [==============================] - 0s 4ms/step - loss: 2.9161 - accuracy: 0.3201 - val_loss: 3.0416 - val_accuracy: 0.2571\n",
            "Epoch 7/50\n",
            "9/9 [==============================] - 0s 4ms/step - loss: 2.5676 - accuracy: 0.3741 - val_loss: 2.7297 - val_accuracy: 0.2714\n",
            "Epoch 8/50\n",
            "9/9 [==============================] - 0s 4ms/step - loss: 2.2316 - accuracy: 0.4317 - val_loss: 2.4183 - val_accuracy: 0.3571\n",
            "Epoch 9/50\n",
            "9/9 [==============================] - 0s 4ms/step - loss: 1.9306 - accuracy: 0.5108 - val_loss: 2.0998 - val_accuracy: 0.5286\n",
            "Epoch 10/50\n",
            "9/9 [==============================] - 0s 4ms/step - loss: 1.6500 - accuracy: 0.6547 - val_loss: 1.8012 - val_accuracy: 0.6143\n",
            "Epoch 11/50\n",
            "9/9 [==============================] - 0s 4ms/step - loss: 1.3817 - accuracy: 0.7050 - val_loss: 1.5188 - val_accuracy: 0.6714\n",
            "Epoch 12/50\n",
            "9/9 [==============================] - 0s 4ms/step - loss: 1.1583 - accuracy: 0.7698 - val_loss: 1.2539 - val_accuracy: 0.7714\n",
            "Epoch 13/50\n",
            "9/9 [==============================] - 0s 5ms/step - loss: 0.9496 - accuracy: 0.8129 - val_loss: 1.0306 - val_accuracy: 0.8000\n",
            "Epoch 14/50\n",
            "9/9 [==============================] - 0s 4ms/step - loss: 0.7661 - accuracy: 0.8705 - val_loss: 0.8365 - val_accuracy: 0.8429\n",
            "Epoch 15/50\n",
            "9/9 [==============================] - 0s 4ms/step - loss: 0.6204 - accuracy: 0.8813 - val_loss: 0.6824 - val_accuracy: 0.8571\n",
            "Epoch 16/50\n",
            "9/9 [==============================] - 0s 4ms/step - loss: 0.5045 - accuracy: 0.8957 - val_loss: 0.5511 - val_accuracy: 0.8857\n",
            "Epoch 17/50\n",
            "9/9 [==============================] - 0s 4ms/step - loss: 0.4160 - accuracy: 0.9065 - val_loss: 0.4532 - val_accuracy: 0.9143\n",
            "Epoch 18/50\n",
            "9/9 [==============================] - 0s 4ms/step - loss: 0.3506 - accuracy: 0.9173 - val_loss: 0.3746 - val_accuracy: 0.9143\n",
            "Epoch 19/50\n",
            "9/9 [==============================] - 0s 5ms/step - loss: 0.2906 - accuracy: 0.9424 - val_loss: 0.3240 - val_accuracy: 0.9286\n",
            "Epoch 20/50\n",
            "9/9 [==============================] - 0s 5ms/step - loss: 0.2514 - accuracy: 0.9353 - val_loss: 0.2848 - val_accuracy: 0.9286\n",
            "Epoch 21/50\n",
            "9/9 [==============================] - 0s 4ms/step - loss: 0.2253 - accuracy: 0.9388 - val_loss: 0.2511 - val_accuracy: 0.9286\n",
            "Epoch 22/50\n",
            "9/9 [==============================] - 0s 4ms/step - loss: 0.1958 - accuracy: 0.9388 - val_loss: 0.2303 - val_accuracy: 0.9286\n",
            "Epoch 23/50\n",
            "9/9 [==============================] - 0s 5ms/step - loss: 0.1821 - accuracy: 0.9317 - val_loss: 0.2076 - val_accuracy: 0.9286\n",
            "Epoch 24/50\n",
            "9/9 [==============================] - 0s 4ms/step - loss: 0.1669 - accuracy: 0.9317 - val_loss: 0.1938 - val_accuracy: 0.9286\n",
            "Epoch 25/50\n",
            "9/9 [==============================] - 0s 5ms/step - loss: 0.1547 - accuracy: 0.9353 - val_loss: 0.1824 - val_accuracy: 0.9286\n",
            "Epoch 26/50\n",
            "9/9 [==============================] - 0s 5ms/step - loss: 0.1457 - accuracy: 0.9388 - val_loss: 0.1716 - val_accuracy: 0.9286\n",
            "Epoch 27/50\n",
            "9/9 [==============================] - 0s 5ms/step - loss: 0.1379 - accuracy: 0.9424 - val_loss: 0.1656 - val_accuracy: 0.9286\n",
            "Epoch 28/50\n",
            "9/9 [==============================] - 0s 5ms/step - loss: 0.1421 - accuracy: 0.9353 - val_loss: 0.1635 - val_accuracy: 0.9286\n",
            "Epoch 29/50\n",
            "9/9 [==============================] - 0s 4ms/step - loss: 0.1312 - accuracy: 0.9353 - val_loss: 0.1620 - val_accuracy: 0.9286\n",
            "Epoch 30/50\n",
            "9/9 [==============================] - 0s 4ms/step - loss: 0.1231 - accuracy: 0.9388 - val_loss: 0.1478 - val_accuracy: 0.9286\n",
            "Epoch 31/50\n",
            "9/9 [==============================] - 0s 4ms/step - loss: 0.1192 - accuracy: 0.9388 - val_loss: 0.1444 - val_accuracy: 0.9286\n",
            "Epoch 32/50\n",
            "9/9 [==============================] - 0s 4ms/step - loss: 0.1146 - accuracy: 0.9353 - val_loss: 0.1417 - val_accuracy: 0.9286\n",
            "Epoch 33/50\n",
            "9/9 [==============================] - 0s 4ms/step - loss: 0.1164 - accuracy: 0.9424 - val_loss: 0.1400 - val_accuracy: 0.9286\n",
            "Epoch 34/50\n",
            "9/9 [==============================] - 0s 4ms/step - loss: 0.1074 - accuracy: 0.9460 - val_loss: 0.1415 - val_accuracy: 0.9286\n",
            "Epoch 35/50\n",
            "9/9 [==============================] - 0s 5ms/step - loss: 0.1165 - accuracy: 0.9353 - val_loss: 0.1336 - val_accuracy: 0.9286\n",
            "Epoch 36/50\n",
            "9/9 [==============================] - 0s 4ms/step - loss: 0.1136 - accuracy: 0.9388 - val_loss: 0.1365 - val_accuracy: 0.9286\n",
            "Epoch 37/50\n",
            "9/9 [==============================] - 0s 4ms/step - loss: 0.1103 - accuracy: 0.9388 - val_loss: 0.1349 - val_accuracy: 0.9286\n",
            "Epoch 38/50\n",
            "9/9 [==============================] - 0s 4ms/step - loss: 0.1055 - accuracy: 0.9460 - val_loss: 0.1306 - val_accuracy: 0.9286\n",
            "Epoch 39/50\n",
            "9/9 [==============================] - 0s 4ms/step - loss: 0.1028 - accuracy: 0.9424 - val_loss: 0.1273 - val_accuracy: 0.9286\n",
            "Epoch 40/50\n",
            "9/9 [==============================] - 0s 4ms/step - loss: 0.0992 - accuracy: 0.9460 - val_loss: 0.1255 - val_accuracy: 0.9286\n",
            "Epoch 41/50\n",
            "9/9 [==============================] - 0s 4ms/step - loss: 0.1017 - accuracy: 0.9424 - val_loss: 0.1254 - val_accuracy: 0.9286\n",
            "Epoch 42/50\n",
            "9/9 [==============================] - 0s 4ms/step - loss: 0.0989 - accuracy: 0.9317 - val_loss: 0.1246 - val_accuracy: 0.9286\n",
            "Epoch 43/50\n",
            "9/9 [==============================] - 0s 4ms/step - loss: 0.1020 - accuracy: 0.9460 - val_loss: 0.1250 - val_accuracy: 0.9286\n",
            "Epoch 44/50\n",
            "9/9 [==============================] - 0s 4ms/step - loss: 0.1041 - accuracy: 0.9460 - val_loss: 0.1227 - val_accuracy: 0.9286\n",
            "Epoch 45/50\n",
            "9/9 [==============================] - 0s 4ms/step - loss: 0.1062 - accuracy: 0.9424 - val_loss: 0.1249 - val_accuracy: 0.9286\n",
            "Epoch 46/50\n",
            "9/9 [==============================] - 0s 5ms/step - loss: 0.1113 - accuracy: 0.9317 - val_loss: 0.1322 - val_accuracy: 0.9286\n",
            "Epoch 47/50\n",
            "9/9 [==============================] - 0s 4ms/step - loss: 0.1136 - accuracy: 0.9388 - val_loss: 0.1296 - val_accuracy: 0.9286\n",
            "Epoch 48/50\n",
            "9/9 [==============================] - 0s 4ms/step - loss: 0.1085 - accuracy: 0.9388 - val_loss: 0.1224 - val_accuracy: 0.9286\n",
            "Epoch 49/50\n",
            "9/9 [==============================] - 0s 4ms/step - loss: 0.1022 - accuracy: 0.9353 - val_loss: 0.1214 - val_accuracy: 0.9286\n",
            "Epoch 50/50\n",
            "9/9 [==============================] - 0s 4ms/step - loss: 0.1014 - accuracy: 0.9317 - val_loss: 0.1203 - val_accuracy: 0.9286\n"
          ]
        }
      ]
    },
    {
      "cell_type": "code",
      "source": [
        "import matplotlib.pyplot as plt\n"
      ],
      "metadata": {
        "id": "1Y7WsHabYSIZ"
      },
      "execution_count": null,
      "outputs": []
    },
    {
      "cell_type": "code",
      "source": [
        "plt.plot(history.history[\"accuracy\"])\n",
        "plt.title(\"Model accuracy\")\n",
        "plt.xlabel(\"Epoch\")\n",
        "plt.ylabel(\"Accuracy score\")\n",
        "plt.show()"
      ],
      "metadata": {
        "colab": {
          "base_uri": "https://localhost:8080/",
          "height": 295
        },
        "id": "3dAQbfAKUGpm",
        "outputId": "ca02ee94-1b65-4924-a56b-7e67094bf68c"
      },
      "execution_count": null,
      "outputs": [
        {
          "output_type": "display_data",
          "data": {
            "text/plain": [
              "<Figure size 432x288 with 1 Axes>"
            ],
            "image/png": "[encoded data removed]"
          },
          "metadata": {
            "needs_background": "light"
          }
        }
      ]
    },
    {
      "cell_type": "code",
      "source": [
        "plt.plot(history.history[\"loss\"])\n",
        "plt.title(\"Model loss\")\n",
        "plt.xlabel(\"Epoch\")\n",
        "plt.ylabel(\"Loss\")\n",
        "plt.show()"
      ],
      "metadata": {
        "colab": {
          "base_uri": "https://localhost:8080/",
          "height": 295
        },
        "id": "3T26DwLcUKYJ",
        "outputId": "6a018514-cfdd-4ac9-db25-c16dc6180449"
      },
      "execution_count": null,
      "outputs": [
        {
          "output_type": "display_data",
          "data": {
            "text/plain": [
              "<Figure size 432x288 with 1 Axes>"
            ],
            "image/png": "[encoded data removed]"
          },
          "metadata": {
            "needs_background": "light"
          }
        }
      ]
    },
    {
      "cell_type": "code",
      "source": [
        "plt.plot(history.history[\"val_accuracy\"])\n",
        "plt.title(\"Model validation accuracy\")\n",
        "plt.xlabel(\"Epoch\")\n",
        "plt.ylabel(\"Accuracy score\")\n",
        "plt.show()"
      ],
      "metadata": {
        "colab": {
          "base_uri": "https://localhost:8080/",
          "height": 295
        },
        "id": "hmNPeJd6UKjK",
        "outputId": "788121a0-8d42-4a48-b750-7b3e55e4b9d8"
      },
      "execution_count": null,
      "outputs": [
        {
          "output_type": "display_data",
          "data": {
            "text/plain": [
              "<Figure size 432x288 with 1 Axes>"
            ],
            "image/png": "[encoded data removed]"
          },
          "metadata": {
            "needs_background": "light"
          }
        }
      ]
    },
    {
      "cell_type": "code",
      "source": [
        "plt.plot(history.history[\"val_loss\"])\n",
        "plt.title(\"Model validation loss\")\n",
        "plt.xlabel(\"Epoch\")\n",
        "plt.ylabel(\"Loss\")\n",
        "plt.show()"
      ],
      "metadata": {
        "colab": {
          "base_uri": "https://localhost:8080/",
          "height": 295
        },
        "id": "Xq5Vy9SiUKtv",
        "outputId": "2e859441-9a4e-4924-96a1-d99e24013491"
      },
      "execution_count": null,
      "outputs": [
        {
          "output_type": "display_data",
          "data": {
            "text/plain": [
              "<Figure size 432x288 with 1 Axes>"
            ],
            "image/png": "[encoded data removed]"
          },
          "metadata": {
            "needs_background": "light"
          }
        }
      ]
    },
    {
      "cell_type": "code",
      "source": [
        "!mkdir -p saved_model\n",
        "model.save('saved_model/my_model')"
      ],
      "metadata": {
        "id": "QRAdrgkCAh3Y",
        "colab": {
          "base_uri": "https://localhost:8080/"
        },
        "outputId": "0b398d4e-8634-44cd-af4d-2e01700bf33c"
      },
      "execution_count": null,
      "outputs": [
        {
          "output_type": "stream",
          "name": "stdout",
          "text": [
            "INFO:tensorflow:Assets written to: saved_model/my_model.zip/assets\n"
          ]
        }
      ]
    },
    {
      "cell_type": "code",
      "source": [
        "model.evaluate(X_test, Y_test_encode)"
      ],
      "metadata": {
        "colab": {
          "base_uri": "https://localhost:8080/"
        },
        "id": "YCFXZletXJtu",
        "outputId": "f6bdbbc3-5452-41bd-f22c-d7e032716d4a"
      },
      "execution_count": null,
      "outputs": [
        {
          "output_type": "stream",
          "name": "stdout",
          "text": [
            "2/2 [==============================] - 0s 5ms/step - loss: 0.2057 - accuracy: 0.9107\n"
          ]
        },
        {
          "output_type": "execute_result",
          "data": {
            "text/plain": [
              "[0.20569775998592377, 0.9107142686843872]"
            ]
          },
          "metadata": {},
          "execution_count": 20
        }
      ]
    },
    {
      "cell_type": "code",
      "source": [
        "label_encoder2 = LabelEncoder()\n",
        "labels = label_encoder2.fit_transform(Y_test)\n",
        "\n",
        "result = label_encoder2.inverse_transform(np.argmax(model.predict(X_test[:1]),axis=-1))\n",
        "\n",
        "print(\"Test Data :\")\n",
        "print('{\"intances\": [\\n',np.array2string(X_test[0], separator=', '),'\\n]}')\n",
        "print(\"Expected Result:\",result)"
      ],
      "metadata": {
        "colab": {
          "base_uri": "https://localhost:8080/"
        },
        "id": "5t2AvTguzMlM",
        "outputId": "a8519160-c345-40e5-9164-2914e517f3d6"
      },
      "execution_count": null,
      "outputs": [
        {
          "output_type": "stream",
          "name": "stdout",
          "text": [
            "Test Data :\n",
            "{\"intances\": [\n",
            " [0, 0, 0, 0, 0, 1, 0, 0, 0, 0, 0, 0, 0, 0, 1, 0, 0, 0, 0, 0, 0, 0, 0, 0, 0,\n",
            " 0, 0, 1, 1, 0, 0, 0, 0, 0, 0, 0, 0, 0, 0, 0, 0, 0, 0, 0, 0, 0, 0, 0, 0, 0,\n",
            " 0, 0, 0, 0, 1, 0, 0, 0, 0, 0, 0, 0, 0, 0, 0, 0, 0, 0, 0, 0, 1, 0, 0, 0, 0,\n",
            " 0, 0, 0, 0, 0, 0, 0, 0, 0, 0, 0, 0, 0, 0, 0, 0, 1] \n",
            "]}\n",
            "Expected Result: ['Ear Hematomas']\n"
          ]
        }
      ]
    },
    {
      "cell_type": "code",
      "source": [
        "label_encoder2 = LabelEncoder()\n",
        "labels = label_encoder2.fit_transform(Y_test)\n",
        "\n",
        "result = label_encoder2.inverse_transform(np.argmax(model.predict(X_test[:1]),axis=-1))\n",
        "\n",
        "X_string = []\n",
        "\n",
        "for i in range(len(X_test)):\n",
        "  row_string = []\n",
        "  for j in range(len(X_test[i])):\n",
        "    if(X_test[i][j]==1):\n",
        "      if(j == 91):\n",
        "        if(X_test[i][j]==1):\n",
        "          row_string.append('Dog')\n",
        "        elif(X_test[i][j]==2):\n",
        "          row_string.append('Cat')\n",
        "        elif(X_test[i][j]==3):\n",
        "          row_string.append('Rabbit')\n",
        "        continue\n",
        "      row_string.append(x_kolom[j])\n",
        "  X_string.append(row_string)\n",
        "\n",
        "print(\"Test Data :\")\n",
        "print('{\"intances\": [\\n',np.array(X_string[0]),'\\n]}')\n",
        "print(\"Expected Result:\",result)"
      ],
      "metadata": {
        "id": "pUi20jLGYNTo",
        "colab": {
          "base_uri": "https://localhost:8080/"
        },
        "outputId": "b5aafcf5-f70a-4d52-bdf6-c31233bab736"
      },
      "execution_count": null,
      "outputs": [
        {
          "output_type": "stream",
          "name": "stdout",
          "text": [
            "Test Data :\n",
            "{\"intances\": [\n",
            " ['Bad Odor' 'Crust in The Ear' 'Ear Redness' 'Ear Odor' 'Itching Ear'\n",
            " 'Pain' 'Dog'] \n",
            "]}\n",
            "Expected Result: ['Ear Hematomas']\n"
          ]
        }
      ]
    },
    {
      "cell_type": "code",
      "source": [
        "label_encoder2 = LabelEncoder()\n",
        "label_encoder2.fit_transform(Y_test)\n",
        "\n",
        "def diagnose(data):\n",
        "  predict = model.predict(data)\n",
        "  result = label_encoder2.inverse_transform(np.argmax(predict, axis=1))\n",
        "  return result[0]\n",
        "  #return data"
      ],
      "metadata": {
        "id": "DGU0xVUB5mkL"
      },
      "execution_count": null,
      "outputs": []
    },
    {
      "cell_type": "code",
      "source": [
        "diagnose(X_test[:1])"
      ],
      "metadata": {
        "colab": {
          "base_uri": "https://localhost:8080/",
          "height": 35
        },
        "id": "XmW0O9Lxd9Q1",
        "outputId": "05fc8ba0-67e1-4c3b-a6cc-762648012b79"
      },
      "execution_count": null,
      "outputs": [
        {
          "output_type": "execute_result",
          "data": {
            "text/plain": [
              "'Ear Hematomas'"
            ],
            "application/vnd.google.colaboratory.intrinsic+json": {
              "type": "string"
            }
          },
          "metadata": {},
          "execution_count": 34
        }
      ]
    },
    {
      "cell_type": "code",
      "source": [
        "!zip -r /content/saved_model.zip /content/saved_model"
      ],
      "metadata": {
        "id": "PHDQ47RweiaX",
        "colab": {
          "base_uri": "https://localhost:8080/"
        },
        "outputId": "91391a72-88a3-48c7-ed5e-34670e9a8db2"
      },
      "execution_count": null,
      "outputs": [
        {
          "output_type": "stream",
          "name": "stdout",
          "text": [
            "  adding: content/saved_model/ (stored 0%)\n",
            "  adding: content/saved_model/my_model/ (stored 0%)\n",
            "  adding: content/saved_model/my_model/variables/ (stored 0%)\n",
            "  adding: content/saved_model/my_model/variables/variables.data-00000-of-00001 (deflated 17%)\n",
            "  adding: content/saved_model/my_model/variables/variables.index (deflated 66%)\n",
            "  adding: content/saved_model/my_model/keras_metadata.pb (deflated 88%)\n",
            "  adding: content/saved_model/my_model/saved_model.pb (deflated 89%)\n",
            "  adding: content/saved_model/my_model/assets/ (stored 0%)\n",
            "  adding: content/saved_model/my_model.zip/ (stored 0%)\n",
            "  adding: content/saved_model/my_model.zip/variables/ (stored 0%)\n",
            "  adding: content/saved_model/my_model.zip/variables/variables.data-00000-of-00001 (deflated 17%)\n",
            "  adding: content/saved_model/my_model.zip/variables/variables.index (deflated 66%)\n",
            "  adding: content/saved_model/my_model.zip/keras_metadata.pb (deflated 88%)\n",
            "  adding: content/saved_model/my_model.zip/saved_model.pb (deflated 89%)\n",
            "  adding: content/saved_model/my_model.zip/assets/ (stored 0%)\n"
          ]
        }
      ]
    },
    {
      "cell_type": "code",
      "source": [
        ""
      ],
      "metadata": {
        "id": "hc0y__QSnNKw"
      },
      "execution_count": null,
      "outputs": []
    }
  ]
}